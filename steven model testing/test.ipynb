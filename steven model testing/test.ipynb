{
 "cells": [
  {
   "cell_type": "code",
   "execution_count": 1,
   "metadata": {},
   "outputs": [],
   "source": [
    "import numpy as np\n",
    "\n",
    "import plotly.graph_objects as go\n",
    "import plotly.express as px\n",
    "from plotly.subplots import make_subplots"
   ]
  },
  {
   "cell_type": "code",
   "execution_count": null,
   "metadata": {},
   "outputs": [],
   "source": [
    "N = 10\n",
    "dieselcost = 0\n",
    "eleccost = 0\n",
    "dieselcostinc = 0\n",
    "eleccostinc = 0\n",
    "maint = 0\n",
    "resale = 0\n",
    "totalmoney = 0\n",
    "\n",
    "def reward(epoch, diesel, addebus, savedmoney):\n",
    "\n",
    "    if epoch == N:\n",
    "        if diesel != 0:\n",
    "            return(0)\n",
    "    else:\n",
    "        if totalmoney + savedmoney > addebus * cost:\n",
    "            return(0)\n",
    "        else:\n",
    "            \n",
    "        return(addebus )"
   ]
  }
 ],
 "metadata": {
  "kernelspec": {
   "display_name": "base",
   "language": "python",
   "name": "python3"
  },
  "language_info": {
   "codemirror_mode": {
    "name": "ipython",
    "version": 3
   },
   "file_extension": ".py",
   "mimetype": "text/x-python",
   "name": "python",
   "nbconvert_exporter": "python",
   "pygments_lexer": "ipython3",
   "version": "3.11.4"
  }
 },
 "nbformat": 4,
 "nbformat_minor": 2
}
